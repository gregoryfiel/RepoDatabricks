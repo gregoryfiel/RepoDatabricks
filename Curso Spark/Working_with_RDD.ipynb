{
 "cells": [
  {
   "cell_type": "markdown",
   "metadata": {
    "application/vnd.databricks.v1+cell": {
     "cellMetadata": {},
     "inputWidgets": {},
     "nuid": "a4631165-5457-418e-a052-e1456c71b02a",
     "showTitle": false,
     "title": ""
    },
    "id": "gjuAVgrxmIo3"
   },
   "source": [
    "# **Working with RDD (Resilient Distributed Dataset)**\n",
    "\n",
    "**`Udemy Course: Best Hands-on Big Data Practices and Use Cases using PySpark`**\n",
    "\n",
    "**`Author: Amin Karami (PhD, FHEA)`**\n",
    "\n",
    "---\n",
    "\n",
    "**Resilient Distributed Dataset (RDD)**: RDD is the fundamental data structure of Spark. It is fault-tolerant (resilient) and immutable distributed collections of any type of objects.\n",
    "\n",
    "source: https://spark.apache.org/docs/latest/rdd-programming-guide.html\n",
    "\n",
    "source: https://spark.apache.org/docs/latest/api/python/reference/"
   ]
  },
  {
   "cell_type": "markdown",
   "metadata": {
    "application/vnd.databricks.v1+cell": {
     "cellMetadata": {},
     "inputWidgets": {},
     "nuid": "868d9109-1aa7-4422-95e3-bd86a38206aa",
     "showTitle": false,
     "title": ""
    },
    "id": "quQ_GBpgWLRK"
   },
   "source": [
    "# **Part 1: Create RDDs and Basic Operations**\n",
    "# **There are two ways to create RDDs:**\n",
    "\n",
    "1.   Parallelizing an existing collection in your driver program\n",
    "2.   Referencing a dataset in an external storage system, such as a shared filesystem, HDFS, HBase, or any data source offering a Hadoop InputFormat."
   ]
  },
  {
   "cell_type": "code",
   "execution_count": 0,
   "metadata": {
    "application/vnd.databricks.v1+cell": {
     "cellMetadata": {
      "byteLimit": 2048000,
      "rowLimit": 10000
     },
     "inputWidgets": {},
     "nuid": "7520abe8-624a-4419-9d65-4bcc51255d69",
     "showTitle": false,
     "title": ""
    },
    "colab": {
     "base_uri": "https://localhost:8080/"
    },
    "id": "ILkhrdMMTu9m",
    "outputId": "2513bd28-976d-4630-a8c1-53700e48c940"
   },
   "outputs": [],
   "source": [
    "# Generate random data:\n",
    "import random\n",
    "random_list = random.sample(range(0, 40), 10)\n",
    "print(random_list)"
   ]
  },
  {
   "cell_type": "code",
   "execution_count": 0,
   "metadata": {
    "application/vnd.databricks.v1+cell": {
     "cellMetadata": {
      "byteLimit": 2048000,
      "rowLimit": 10000
     },
     "inputWidgets": {},
     "nuid": "591ade0f-886c-4212-ae27-f838c0af927f",
     "showTitle": false,
     "title": ""
    },
    "colab": {
     "base_uri": "https://localhost:8080/"
    },
    "id": "1n39Bv24XHjt",
    "outputId": "dad10ae5-53cb-4857-9802-70d50fc2b446"
   },
   "outputs": [],
   "source": [
    "# Create RDD:\n",
    "rdd1 = sc.parallelize(random_list, 4)\n",
    "\n",
    "rdd1.collect()"
   ]
  },
  {
   "cell_type": "code",
   "execution_count": 0,
   "metadata": {
    "application/vnd.databricks.v1+cell": {
     "cellMetadata": {
      "byteLimit": 2048000,
      "rowLimit": 10000
     },
     "inputWidgets": {},
     "nuid": "9db31d76-4316-4d89-9ee8-d8a2b837a776",
     "showTitle": false,
     "title": ""
    },
    "colab": {
     "base_uri": "https://localhost:8080/"
    },
    "id": "b8aOYoMLX7Er",
    "outputId": "a7a48c34-d88e-47b8-f379-baea471043ec"
   },
   "outputs": [],
   "source": [
    "# Data distribution in partitions:\n",
    "print(rdd1.getNumPartitions())\n",
    "print(rdd1.glom().collect())\n",
    "\n",
    "print(\"the first two particions:\", rdd1.glom().take(2))"
   ]
  },
  {
   "cell_type": "code",
   "execution_count": 0,
   "metadata": {
    "application/vnd.databricks.v1+cell": {
     "cellMetadata": {
      "byteLimit": 2048000,
      "rowLimit": 10000
     },
     "inputWidgets": {},
     "nuid": "a494bbbf-ebca-4682-86aa-905566b9e4ac",
     "showTitle": false,
     "title": ""
    },
    "colab": {
     "base_uri": "https://localhost:8080/"
    },
    "id": "9EffFOyTYC18",
    "outputId": "eeebc1e4-3aac-4ceb-ba34-57bacd259c0b"
   },
   "outputs": [],
   "source": [
    "# Print last partition\n",
    "rdd1.glom().collect()[3]"
   ]
  },
  {
   "cell_type": "code",
   "execution_count": 0,
   "metadata": {
    "application/vnd.databricks.v1+cell": {
     "cellMetadata": {
      "byteLimit": 2048000,
      "rowLimit": 10000
     },
     "inputWidgets": {},
     "nuid": "78ff8c85-a22d-4f6d-a38a-c1d00d6ddad8",
     "showTitle": false,
     "title": ""
    },
    "colab": {
     "base_uri": "https://localhost:8080/"
    },
    "id": "9TL1kG-Ceo6E",
    "outputId": "c7ac6614-b6e8-4dd5-b749-19f68d2fa8fe"
   },
   "outputs": [],
   "source": [
    "# count():\n",
    "rdd1.count()"
   ]
  },
  {
   "cell_type": "code",
   "execution_count": 0,
   "metadata": {
    "application/vnd.databricks.v1+cell": {
     "cellMetadata": {
      "byteLimit": 2048000,
      "rowLimit": 10000
     },
     "inputWidgets": {},
     "nuid": "9801b31a-7db1-41e1-912b-20ac8cfd28d4",
     "showTitle": false,
     "title": ""
    },
    "colab": {
     "base_uri": "https://localhost:8080/"
    },
    "id": "gZmfAahXeryY",
    "outputId": "781c8595-13ea-4095-e584-e214d8980902"
   },
   "outputs": [],
   "source": [
    "# first():\n",
    "rdd1.first()"
   ]
  },
  {
   "cell_type": "code",
   "execution_count": 0,
   "metadata": {
    "application/vnd.databricks.v1+cell": {
     "cellMetadata": {
      "byteLimit": 2048000,
      "rowLimit": 10000
     },
     "inputWidgets": {},
     "nuid": "5854b76b-8e43-43e6-b474-e528565c78b0",
     "showTitle": false,
     "title": ""
    },
    "colab": {
     "base_uri": "https://localhost:8080/"
    },
    "id": "OnuGXcKLb8qa",
    "outputId": "3eaa29f5-6b62-42de-8c91-51cd3dce2515"
   },
   "outputs": [],
   "source": [
    "# top():\n",
    "rdd1.top(2)"
   ]
  },
  {
   "cell_type": "code",
   "execution_count": 0,
   "metadata": {
    "application/vnd.databricks.v1+cell": {
     "cellMetadata": {
      "byteLimit": 2048000,
      "rowLimit": 10000
     },
     "inputWidgets": {},
     "nuid": "55e5a10d-e676-4dd6-a7ec-c7771d090714",
     "showTitle": false,
     "title": ""
    },
    "colab": {
     "base_uri": "https://localhost:8080/"
    },
    "id": "3xOj1w6teN_a",
    "outputId": "cbcce3ed-05db-40b0-e06f-b4ce8158be51"
   },
   "outputs": [],
   "source": [
    "# distinct():\n",
    "rdd1.distinct().collect()"
   ]
  },
  {
   "cell_type": "code",
   "execution_count": 0,
   "metadata": {
    "application/vnd.databricks.v1+cell": {
     "cellMetadata": {
      "byteLimit": 2048000,
      "rowLimit": 10000
     },
     "inputWidgets": {},
     "nuid": "80090534-9643-4634-932e-97f52c690f4c",
     "showTitle": false,
     "title": ""
    },
    "colab": {
     "base_uri": "https://localhost:8080/"
    },
    "id": "qE0CJuhlZz1M",
    "outputId": "0c75b9a1-0958-4ef6-8217-41521dffd30d"
   },
   "outputs": [],
   "source": [
    "# map():\n",
    "rdd_map = rdd1.map(lambda item: (item + 1) * 3)\n",
    "print(rdd_map.collect())\n",
    "print(rdd_map.glom().collect())"
   ]
  },
  {
   "cell_type": "code",
   "execution_count": 0,
   "metadata": {
    "application/vnd.databricks.v1+cell": {
     "cellMetadata": {
      "byteLimit": 2048000,
      "rowLimit": 10000
     },
     "inputWidgets": {},
     "nuid": "2c0ac96d-03a1-477a-b96e-465f35697223",
     "showTitle": false,
     "title": ""
    },
    "colab": {
     "base_uri": "https://localhost:8080/"
    },
    "id": "r804677wamjY",
    "outputId": "db0a2579-baac-427f-96bb-0afbee34726f"
   },
   "outputs": [],
   "source": [
    "# filter():\n",
    "rdd_filter = rdd1.filter(lambda x: x%2==0)\n",
    "print(rdd_filter.collect())\n",
    "print(rdd_filter.glom().collect())"
   ]
  },
  {
   "cell_type": "code",
   "execution_count": 0,
   "metadata": {
    "application/vnd.databricks.v1+cell": {
     "cellMetadata": {
      "byteLimit": 2048000,
      "rowLimit": 10000
     },
     "inputWidgets": {},
     "nuid": "d462d68d-f0f7-424e-9bba-b5cbfd807f83",
     "showTitle": false,
     "title": ""
    },
    "colab": {
     "base_uri": "https://localhost:8080/"
    },
    "id": "9f--VFpvaqRj",
    "outputId": "28baeeee-20ba-4a40-806b-e9b73bebd58f"
   },
   "outputs": [],
   "source": [
    "# flatMap():\n",
    "rdd_flatmap = rdd1.flatMap(lambda x: [x+2, x+5])\n",
    "print(rdd_flatmap.collect())\n",
    "print(rdd_flatmap.reduce(lambda x,y: x+y))"
   ]
  },
  {
   "cell_type": "code",
   "execution_count": 0,
   "metadata": {
    "application/vnd.databricks.v1+cell": {
     "cellMetadata": {
      "byteLimit": 2048000,
      "rowLimit": 10000
     },
     "inputWidgets": {},
     "nuid": "20d80d0b-9ee4-4c2a-acb8-5596ce398091",
     "showTitle": false,
     "title": ""
    },
    "colab": {
     "base_uri": "https://localhost:8080/"
    },
    "id": "1LSPGU35gk-q",
    "outputId": "f2d5557f-5946-4387-c581-a015abf4c877"
   },
   "outputs": [],
   "source": [
    "# Descriptive statistics:\n",
    "print([rdd1.max(), rdd1.min(), rdd1.mean(), round(rdd1.stdev(), 2), rdd1.sum()])"
   ]
  },
  {
   "cell_type": "code",
   "execution_count": 0,
   "metadata": {
    "application/vnd.databricks.v1+cell": {
     "cellMetadata": {
      "byteLimit": 2048000,
      "rowLimit": 10000
     },
     "inputWidgets": {},
     "nuid": "184e4218-e61c-4445-a9e7-a85c1ba1da84",
     "showTitle": false,
     "title": ""
    },
    "colab": {
     "base_uri": "https://localhost:8080/"
    },
    "id": "PEKBDcW1bvZe",
    "outputId": "0dc81237-c7dd-4dff-efb1-22e0cf8d20dc"
   },
   "outputs": [],
   "source": [
    "# mapPartitions():\n",
    "def myfunc(particion):\n",
    "  sum = 0\n",
    "  for item in particion:\n",
    "    sum += item\n",
    "\n",
    "  yield sum\n",
    "\n",
    "rdd1.mapPartitions(myfunc).collect()"
   ]
  },
  {
   "cell_type": "markdown",
   "metadata": {
    "application/vnd.databricks.v1+cell": {
     "cellMetadata": {},
     "inputWidgets": {},
     "nuid": "e7c2808d-1df8-4441-9fd0-9d56d4806459",
     "showTitle": false,
     "title": ""
    },
    "id": "EGi2zdncaoHo"
   },
   "source": [
    "# **Part 2: Advanced RDD Transformations and Actions**"
   ]
  },
  {
   "cell_type": "code",
   "execution_count": 0,
   "metadata": {
    "application/vnd.databricks.v1+cell": {
     "cellMetadata": {
      "byteLimit": 2048000,
      "rowLimit": 10000
     },
     "inputWidgets": {},
     "nuid": "95f49419-3930-4fe0-abc1-3994d1e2b7d0",
     "showTitle": false,
     "title": ""
    },
    "colab": {
     "base_uri": "https://localhost:8080/"
    },
    "id": "bIKu4KMrdt1k",
    "outputId": "cbce4ae7-601e-4db9-ff14-8965137ea8b1"
   },
   "outputs": [],
   "source": [
    "# union():\n",
    "print(rdd1.collect())\n",
    "rand_list2 = random_list = random.sample(range(0, 30), 8)\n",
    "rdd2 = sc.parallelize(rand_list2, 2)\n",
    "print(rdd2.collect())\n",
    "rdd_union = rdd1.union(rdd2)\n",
    "print(rdd_union.collect())\n",
    "\n",
    "print(rdd_union.getNumPartitions())"
   ]
  },
  {
   "cell_type": "code",
   "execution_count": 0,
   "metadata": {
    "application/vnd.databricks.v1+cell": {
     "cellMetadata": {
      "byteLimit": 2048000,
      "rowLimit": 10000
     },
     "inputWidgets": {},
     "nuid": "afb47bc8-3522-4df3-b62d-d059157d50e9",
     "showTitle": false,
     "title": ""
    },
    "colab": {
     "base_uri": "https://localhost:8080/"
    },
    "id": "DmQ3bNUkeMVk",
    "outputId": "713b7689-afe9-4295-a07a-ac0fa2519724"
   },
   "outputs": [],
   "source": [
    "# intersection():\n",
    "rdd_intersection = rdd1.intersection(rdd2)\n",
    "print(rdd_intersection.collect())\n",
    "print(rdd_intersection.getNumPartitions())\n",
    "\n",
    "rdd_intersection.glom().collect()"
   ]
  },
  {
   "cell_type": "code",
   "execution_count": 0,
   "metadata": {
    "application/vnd.databricks.v1+cell": {
     "cellMetadata": {
      "byteLimit": 2048000,
      "rowLimit": 10000
     },
     "inputWidgets": {},
     "nuid": "dd6ae9f3-bac6-4891-9037-44e6cfb92d7d",
     "showTitle": false,
     "title": ""
    },
    "colab": {
     "base_uri": "https://localhost:8080/"
    },
    "id": "E2g0ep9M8GX8",
    "outputId": "f77bdd72-9aa0-4266-b471-82a204b6318a"
   },
   "outputs": [],
   "source": [
    "# Find empty\n",
    "counter = 0\n",
    "for item in rdd_intersection.glom().collect():\n",
    "  if len(item) == 0:\n",
    "    counter += 1\n",
    "\n",
    "counter"
   ]
  },
  {
   "cell_type": "code",
   "execution_count": 0,
   "metadata": {
    "application/vnd.databricks.v1+cell": {
     "cellMetadata": {
      "byteLimit": 2048000,
      "rowLimit": 10000
     },
     "inputWidgets": {},
     "nuid": "51456582-4e54-4688-aaa9-8af6dc4d2abf",
     "showTitle": false,
     "title": ""
    },
    "colab": {
     "base_uri": "https://localhost:8080/"
    },
    "id": "-AopsaZqehmA",
    "outputId": "d26bd5d5-f28e-4cc2-c387-a9d13d8621bb"
   },
   "outputs": [],
   "source": [
    "# coalesce(numPartitions):\n",
    "rdd_intersection.coalesce(1).glom().collect()"
   ]
  },
  {
   "cell_type": "code",
   "execution_count": 0,
   "metadata": {
    "application/vnd.databricks.v1+cell": {
     "cellMetadata": {
      "byteLimit": 2048000,
      "rowLimit": 10000
     },
     "inputWidgets": {},
     "nuid": "dd4df77b-f132-4b83-9337-acee64096059",
     "showTitle": false,
     "title": ""
    },
    "colab": {
     "base_uri": "https://localhost:8080/"
    },
    "id": "OFjDbelJeuoq",
    "outputId": "5ce0154c-d5ec-4d18-e852-7cac7307fc04"
   },
   "outputs": [],
   "source": [
    "# takeSample(withReplacement, num, [seed])\n",
    "rdd1.takeSample(False, 5)"
   ]
  },
  {
   "cell_type": "code",
   "execution_count": 0,
   "metadata": {
    "application/vnd.databricks.v1+cell": {
     "cellMetadata": {
      "byteLimit": 2048000,
      "rowLimit": 10000
     },
     "inputWidgets": {},
     "nuid": "2db32e72-8965-4dd6-8f3b-f1e90d3fc758",
     "showTitle": false,
     "title": ""
    },
    "colab": {
     "base_uri": "https://localhost:8080/"
    },
    "id": "_K41G_W9ezhS",
    "outputId": "3c480541-a586-4214-a2f1-0c3278ba941e"
   },
   "outputs": [],
   "source": [
    "# takeOrdered(n, [ordering])\n",
    "print(rdd1.takeOrdered(5))\n",
    "\n",
    "print(rdd1.takeOrdered(5, key=lambda x: -x))"
   ]
  },
  {
   "cell_type": "code",
   "execution_count": 0,
   "metadata": {
    "application/vnd.databricks.v1+cell": {
     "cellMetadata": {
      "byteLimit": 2048000,
      "rowLimit": 10000
     },
     "inputWidgets": {},
     "nuid": "6a653923-f589-49f3-9c6d-0421da72c242",
     "showTitle": false,
     "title": ""
    },
    "colab": {
     "base_uri": "https://localhost:8080/"
    },
    "id": "sgBhaTdAeldY",
    "outputId": "e1ef50d0-a941-4205-b887-8fe6aa7a70a5"
   },
   "outputs": [],
   "source": [
    "# reduce():\n",
    "rdd1.reduce(lambda x,y: x-y)"
   ]
  },
  {
   "cell_type": "code",
   "execution_count": 0,
   "metadata": {
    "application/vnd.databricks.v1+cell": {
     "cellMetadata": {
      "byteLimit": 2048000,
      "rowLimit": 10000
     },
     "inputWidgets": {},
     "nuid": "ad45cdc2-95d1-471a-93ef-89ee98dd3564",
     "showTitle": false,
     "title": ""
    },
    "colab": {
     "base_uri": "https://localhost:8080/"
    },
    "id": "aj8-Q40_eXT2",
    "outputId": "f9ecea44-a437-4792-9dfb-435a3d3a4d70"
   },
   "outputs": [],
   "source": [
    "# reduceByKey():\n",
    "rdd_rbk = sc.parallelize([(1,4), (7,10), (5,7), (1,12), (7,12), (7,1), (9,1), (7,4)], 2)\n",
    "print(rdd_rbk.glom().collect())\n",
    "\n",
    "print(rdd_rbk.reduceByKey(lambda x,y: x+y).collect())\n",
    "\n",
    "# user friendly visualization\n",
    "import pandas as pd\n",
    "counter = pd.DataFrame({'Key': rdd_rbk.keys().collect(),\n",
    "                        'Values': rdd_rbk.values().collect()})\n",
    "print(counter)"
   ]
  },
  {
   "cell_type": "code",
   "execution_count": 0,
   "metadata": {
    "application/vnd.databricks.v1+cell": {
     "cellMetadata": {
      "byteLimit": 2048000,
      "rowLimit": 10000
     },
     "inputWidgets": {},
     "nuid": "ca82ec7e-222c-42dc-9567-a860f4cdd108",
     "showTitle": false,
     "title": ""
    },
    "colab": {
     "base_uri": "https://localhost:8080/"
    },
    "id": "Ii8M3qNMeaHC",
    "outputId": "72c7a69c-b6d7-4819-b4aa-7dfaf2087616"
   },
   "outputs": [],
   "source": [
    "# sortByKey():\n",
    "print(rdd_rbk.reduceByKey(lambda x,y: x+y).sortByKey(True).collect())"
   ]
  },
  {
   "cell_type": "code",
   "execution_count": 0,
   "metadata": {
    "application/vnd.databricks.v1+cell": {
     "cellMetadata": {
      "byteLimit": 2048000,
      "rowLimit": 10000
     },
     "inputWidgets": {},
     "nuid": "026d20f9-cc9e-4e8f-bb68-f32a9c088b0b",
     "showTitle": false,
     "title": ""
    },
    "colab": {
     "base_uri": "https://localhost:8080/"
    },
    "id": "2-WYDKd2e0qf",
    "outputId": "686d60fe-ac71-4a9f-eb4f-b062acf97c22"
   },
   "outputs": [],
   "source": [
    "# countByKey()\n",
    "print(rdd_rbk.countByKey())\n",
    "\n",
    "print(sorted(rdd_rbk.countByKey().items()))"
   ]
  },
  {
   "cell_type": "code",
   "execution_count": 0,
   "metadata": {
    "application/vnd.databricks.v1+cell": {
     "cellMetadata": {
      "byteLimit": 2048000,
      "rowLimit": 10000
     },
     "inputWidgets": {},
     "nuid": "894531ec-c80f-47ca-b09d-c3f65132defa",
     "showTitle": false,
     "title": ""
    },
    "colab": {
     "base_uri": "https://localhost:8080/"
    },
    "id": "bihcXC8DeUEv",
    "outputId": "a1030d2f-2d5e-4551-ae03-807d91abc643"
   },
   "outputs": [],
   "source": [
    "# groupByKey():\n",
    "rdd_group = rdd_rbk.groupByKey()\n",
    "\n",
    "print(rdd_group.getNumPartitions())\n",
    "\n",
    "for item in rdd_group.collect():\n",
    "  print(item[0], [values for values in item[1]])"
   ]
  },
  {
   "cell_type": "code",
   "execution_count": 0,
   "metadata": {
    "application/vnd.databricks.v1+cell": {
     "cellMetadata": {
      "byteLimit": 2048000,
      "rowLimit": 10000
     },
     "inputWidgets": {},
     "nuid": "9a096b2e-43f0-41ce-ab13-f03ba156c76c",
     "showTitle": false,
     "title": ""
    },
    "colab": {
     "base_uri": "https://localhost:8080/"
    },
    "id": "5NzYUXEJhDM9",
    "outputId": "561930da-10f0-40d0-e165-ad0b24ae36fe"
   },
   "outputs": [],
   "source": [
    "# lookup(key):\n",
    "rdd_rbk.lookup(7)"
   ]
  },
  {
   "cell_type": "code",
   "execution_count": 0,
   "metadata": {
    "application/vnd.databricks.v1+cell": {
     "cellMetadata": {
      "byteLimit": 2048000,
      "rowLimit": 10000
     },
     "inputWidgets": {},
     "nuid": "6ae36709-b6b6-499b-a36e-3efac7ee19bc",
     "showTitle": false,
     "title": ""
    },
    "colab": {
     "base_uri": "https://localhost:8080/"
    },
    "id": "g9ThlLGO6z7u",
    "outputId": "8d54de9e-f770-4a03-dd1e-6567333dae2a"
   },
   "outputs": [],
   "source": [
    "# cache:\n",
    "# By default, each transformed RDD may be recomputed each time you run an action on it.\n",
    "# However, you may also persist an RDD in memory using the persist (or cache) method,\n",
    "# in which case Spark will keep the elements around on the cluster for much faster access the next time you query it.\n",
    "rdd_rbk.persist()"
   ]
  },
  {
   "cell_type": "code",
   "execution_count": 0,
   "metadata": {
    "application/vnd.databricks.v1+cell": {
     "cellMetadata": {
      "byteLimit": 2048000,
      "rowLimit": 10000
     },
     "inputWidgets": {},
     "nuid": "3f663510-a68d-4f1f-b62c-117d6ebf78e3",
     "showTitle": false,
     "title": ""
    },
    "colab": {
     "base_uri": "https://localhost:8080/"
    },
    "id": "5zYpm9hpiqPc",
    "outputId": "96c7af98-8af2-4543-da69-0072a9fcf664"
   },
   "outputs": [],
   "source": [
    "# Persistence (https://spark.apache.org/docs/latest/rdd-programming-guide.html#rdd-persistence)\n",
    "from pyspark import StorageLevel\n",
    "rdd1.persist(StorageLevel.MEMORY_AND_DISK)"
   ]
  }
 ],
 "metadata": {
  "application/vnd.databricks.v1+notebook": {
   "dashboards": [],
   "language": "python",
   "notebookMetadata": {
    "pythonIndentUnit": 4
   },
   "notebookName": "Working_with_RDD",
   "widgets": {}
  },
  "colab": {
   "provenance": []
  },
  "kernelspec": {
   "display_name": "Python 3",
   "language": "python",
   "name": "python3"
  },
  "language_info": {
   "codemirror_mode": {
    "name": "ipython",
    "version": 3
   },
   "file_extension": ".py",
   "mimetype": "text/x-python",
   "name": "python",
   "nbconvert_exporter": "python",
   "pygments_lexer": "ipython3",
   "version": "3.8.3"
  }
 },
 "nbformat": 4,
 "nbformat_minor": 0
}
