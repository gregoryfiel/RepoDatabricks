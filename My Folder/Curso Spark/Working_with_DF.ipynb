{
 "cells": [
  {
   "cell_type": "markdown",
   "metadata": {
    "application/vnd.databricks.v1+cell": {
     "cellMetadata": {},
     "inputWidgets": {},
     "nuid": "7a1d3bfe-6b3f-45cd-be0d-cc0270b7d34f",
     "showTitle": false,
     "title": ""
    },
    "id": "gjuAVgrxmIo3"
   },
   "source": [
    "# **Working with DF (DataFrame)**\n",
    "\n",
    "**`Udemy Course: Best Hands-on Big Data Practices and Use Cases using PySpark`**\n",
    "\n",
    "**`Author: Amin Karami (PhD, FHEA)`**\n",
    "\n",
    "---\n",
    "\n",
    "**DataFrame (DF)**: Schema (named columns) + declarative language. A DataFrame is a Dataset organized into named columns. It is conceptually equivalent to a table in a relational database. DataFrames can be constructed from a wide array of sources such as: structured data files, tables in Hive, external databases, or existing RDDs. It is very efficient for strucutred data.\n",
    "\n",
    "source: https://spark.apache.org/docs/latest/sql-programming-guide.html\n",
    "\n",
    "source: https://spark.apache.org/docs/latest/api/python/reference/"
   ]
  },
  {
   "cell_type": "code",
   "execution_count": 0,
   "metadata": {
    "application/vnd.databricks.v1+cell": {
     "cellMetadata": {},
     "inputWidgets": {},
     "nuid": "df38636f-a7d5-4ed2-bac3-97cfb0b9663d",
     "showTitle": false,
     "title": ""
    },
    "colab": {
     "base_uri": "https://localhost:8080/"
    },
    "id": "0LWTJaC8mHL5",
    "outputId": "d5a4f22e-611e-4c38-a1e4-2b4b1e0d07bd"
   },
   "outputs": [],
   "source": [
    "########## ONLY in Colab ##########\n",
    "!pip3 install pyspark\n",
    "########## ONLY in Colab ##########"
   ]
  },
  {
   "cell_type": "code",
   "execution_count": 0,
   "metadata": {
    "application/vnd.databricks.v1+cell": {
     "cellMetadata": {},
     "inputWidgets": {},
     "nuid": "75ce88dd-3e7f-4447-a4d4-cd7736bd72ff",
     "showTitle": false,
     "title": ""
    },
    "colab": {
     "base_uri": "https://localhost:8080/",
     "height": 219
    },
    "id": "e3pTfRiwTMeY",
    "outputId": "c73bd8e1-3dde-4325-ec27-4eaf74b05535"
   },
   "outputs": [],
   "source": [
    "# Linking with Spark (https://spark.apache.org/docs/latest/api/python/reference/pyspark.sql.html)\n",
    "import pyspark\n",
    "from pyspark.sql import SparkSession\n",
    "\n",
    "spark = SparkSession.builder.master(\"local[*]\").getOrCreate()\n",
    "\n",
    "spark"
   ]
  },
  {
   "cell_type": "markdown",
   "metadata": {
    "application/vnd.databricks.v1+cell": {
     "cellMetadata": {},
     "inputWidgets": {},
     "nuid": "de499ded-f162-4adb-9397-9a78e530e113",
     "showTitle": false,
     "title": ""
    },
    "id": "quQ_GBpgWLRK"
   },
   "source": [
    "# **Part 1: Create DF and Basic Operations**"
   ]
  },
  {
   "cell_type": "code",
   "execution_count": 0,
   "metadata": {
    "application/vnd.databricks.v1+cell": {
     "cellMetadata": {},
     "inputWidgets": {},
     "nuid": "24995616-a95d-43d2-b44c-7d8f5b37410d",
     "showTitle": false,
     "title": ""
    },
    "id": "1n39Bv24XHjt"
   },
   "outputs": [],
   "source": [
    "# Create/Load DF: (Spark automatically scans through the files and infers the schema of the dataset)\n",
    "# data source: https://www.kaggle.com/thec03u5/fifa-18-demo-player-dataset\n",
    "\n",
    "df1 = spark.read.format(\"csv\").load(\"CompleteDataset.csv\", inferSchema=True, header=True)"
   ]
  },
  {
   "cell_type": "code",
   "execution_count": 0,
   "metadata": {
    "application/vnd.databricks.v1+cell": {
     "cellMetadata": {},
     "inputWidgets": {},
     "nuid": "15dc6397-d860-4d2b-96de-478fd75311e2",
     "showTitle": false,
     "title": ""
    },
    "colab": {
     "base_uri": "https://localhost:8080/"
    },
    "id": "b8aOYoMLX7Er",
    "outputId": "cb02d58d-08a7-48c6-9403-8ee80c3a9510"
   },
   "outputs": [],
   "source": [
    "# Show data:\n",
    "df1.show()"
   ]
  },
  {
   "cell_type": "code",
   "execution_count": 0,
   "metadata": {
    "application/vnd.databricks.v1+cell": {
     "cellMetadata": {},
     "inputWidgets": {},
     "nuid": "93838176-2479-484a-bb97-9303ae075226",
     "showTitle": false,
     "title": ""
    },
    "colab": {
     "base_uri": "https://localhost:8080/"
    },
    "id": "9EffFOyTYC18",
    "outputId": "85d4c3ff-7c9e-4df6-b270-b3b27007f9ca"
   },
   "outputs": [],
   "source": [
    "# How many partitions in DF?\n",
    "df1.rdd.getNumPartitions()"
   ]
  },
  {
   "cell_type": "code",
   "execution_count": 0,
   "metadata": {
    "application/vnd.databricks.v1+cell": {
     "cellMetadata": {},
     "inputWidgets": {},
     "nuid": "b16b79fd-ec28-48f4-b761-6ea261384428",
     "showTitle": false,
     "title": ""
    },
    "colab": {
     "base_uri": "https://localhost:8080/"
    },
    "id": "YBP0nzanB1Cd",
    "outputId": "59a8f504-8e5b-49f0-bbed-4760e69824a8"
   },
   "outputs": [],
   "source": [
    "# Increase/Desrease the partitions in DF\n",
    "df2 = df1.repartition(4)\n",
    "df2.rdd.getNumPartitions()"
   ]
  },
  {
   "cell_type": "code",
   "execution_count": 0,
   "metadata": {
    "application/vnd.databricks.v1+cell": {
     "cellMetadata": {},
     "inputWidgets": {},
     "nuid": "1a02b0e6-722c-44c9-a8da-57c77d55d97c",
     "showTitle": false,
     "title": ""
    },
    "colab": {
     "base_uri": "https://localhost:8080/"
    },
    "id": "N0sR-ffdCKuc",
    "outputId": "694c5a52-5610-420c-caa2-ba55d1c18111"
   },
   "outputs": [],
   "source": [
    "# Show DF\n",
    "df2.show()"
   ]
  },
  {
   "cell_type": "code",
   "execution_count": 0,
   "metadata": {
    "application/vnd.databricks.v1+cell": {
     "cellMetadata": {},
     "inputWidgets": {},
     "nuid": "c940aa3f-b35f-49b8-a45b-644ad7e6d20f",
     "showTitle": false,
     "title": ""
    },
    "colab": {
     "base_uri": "https://localhost:8080/"
    },
    "id": "Yp9QWyKcDQZy",
    "outputId": "f3a12684-7856-419d-f730-f16fe89de796"
   },
   "outputs": [],
   "source": [
    "# Rename Columns and Amend NULLs:\n",
    "df2 = df2.withColumnRenamed(\"_c0\", \"id\") \\\n",
    "    .withColumnRenamed(\"Ball control\", \"Ball_control\") \\\n",
    "    .withColumnRenamed(\"Sliding tackle\", \"Sliding_Tackle\")\n",
    "\n",
    "df2.na.fill({\"RAM\":10, \"RB\":1}).show()"
   ]
  },
  {
   "cell_type": "code",
   "execution_count": 0,
   "metadata": {
    "application/vnd.databricks.v1+cell": {
     "cellMetadata": {},
     "inputWidgets": {},
     "nuid": "207f474a-4360-4bd2-ace8-2c163de38dba",
     "showTitle": false,
     "title": ""
    },
    "colab": {
     "base_uri": "https://localhost:8080/"
    },
    "id": "Vf9eiG93HbKK",
    "outputId": "adbc3057-c250-4c00-c12a-c166f50fe112"
   },
   "outputs": [],
   "source": [
    "# Transformation (SELECT):\n",
    "df2.select(\"Name\", \"Overall\").distinct().show()"
   ]
  },
  {
   "cell_type": "code",
   "execution_count": 0,
   "metadata": {
    "application/vnd.databricks.v1+cell": {
     "cellMetadata": {},
     "inputWidgets": {},
     "nuid": "6cca0911-d018-4522-9d19-26fba2d25ea4",
     "showTitle": false,
     "title": ""
    },
    "colab": {
     "base_uri": "https://localhost:8080/"
    },
    "id": "QlLKM3krHyWD",
    "outputId": "bc857fef-1851-4d03-e081-496058f5e141"
   },
   "outputs": [],
   "source": [
    "# Transformation (FILTER):\n",
    "df2.filter(df2[\"Overall\"] > 90).show()"
   ]
  },
  {
   "cell_type": "code",
   "execution_count": 0,
   "metadata": {
    "application/vnd.databricks.v1+cell": {
     "cellMetadata": {},
     "inputWidgets": {},
     "nuid": "8e4ca78d-7f35-45b9-a97f-a153a3346d00",
     "showTitle": false,
     "title": ""
    },
    "colab": {
     "base_uri": "https://localhost:8080/"
    },
    "id": "7b94hjJuIDj5",
    "outputId": "7ca221af-7d7c-4fe0-cd88-66b8225c6f07"
   },
   "outputs": [],
   "source": [
    "# Transformation (FILTER):\n",
    "df2.select(\"Overall\", \"Name\", \"Age\").where(df2[\"Overall\"] > 90).show()"
   ]
  },
  {
   "cell_type": "code",
   "execution_count": 0,
   "metadata": {
    "application/vnd.databricks.v1+cell": {
     "cellMetadata": {},
     "inputWidgets": {},
     "nuid": "2a36d335-c591-4936-a629-1d41cc7b3d3e",
     "showTitle": false,
     "title": ""
    },
    "colab": {
     "base_uri": "https://localhost:8080/"
    },
    "id": "vvnmUbd1IgKL",
    "outputId": "8d40d322-d6e4-40f4-e3af-bdc3fd53f054"
   },
   "outputs": [],
   "source": [
    "# Transformation (FILTER):\n",
    "df2.where(df2[\"Overall\"]>70).groupBy(\"Age\").count().sort(\"Age\").show()"
   ]
  },
  {
   "cell_type": "code",
   "execution_count": 0,
   "metadata": {
    "application/vnd.databricks.v1+cell": {
     "cellMetadata": {},
     "inputWidgets": {},
     "nuid": "11e958d8-f340-4748-9572-d3925e2c3506",
     "showTitle": false,
     "title": ""
    },
    "colab": {
     "base_uri": "https://localhost:8080/",
     "height": 470
    },
    "id": "qyoxZNRDJYJL",
    "outputId": "0794b2ee-1da7-4443-ff6c-72bb81e24dbf"
   },
   "outputs": [],
   "source": [
    "# Visualize the results:\n",
    "df2_result = df2.where(df2[\"Overall\"]>70).groupBy(\"Age\").count().sort(\"Age\")\n",
    "pandas_df = df2_result.toPandas()\n",
    "\n",
    "pandas_df.plot(x=\"Age\", y=\"count\", kind=\"bar\")"
   ]
  },
  {
   "cell_type": "code",
   "execution_count": 0,
   "metadata": {
    "application/vnd.databricks.v1+cell": {
     "cellMetadata": {},
     "inputWidgets": {},
     "nuid": "79ee03df-8e7d-41c3-aa4f-0a4d8da11135",
     "showTitle": false,
     "title": ""
    },
    "colab": {
     "base_uri": "https://localhost:8080/",
     "height": 470
    },
    "id": "xL4ac6O7wZvE",
    "outputId": "f7ef0467-ac34-410f-fc20-e2628ee4bc49"
   },
   "outputs": [],
   "source": [
    "pandas_df.sort_values(by=\"count\", ascending=False).plot(x=\"Age\", y=\"count\", kind=\"bar\")"
   ]
  },
  {
   "cell_type": "markdown",
   "metadata": {
    "application/vnd.databricks.v1+cell": {
     "cellMetadata": {},
     "inputWidgets": {},
     "nuid": "a766e4b0-08fa-49fe-a928-b4731c93db59",
     "showTitle": false,
     "title": ""
    },
    "id": "EGi2zdncaoHo"
   },
   "source": [
    "# **Part 2: Advanced DF Operations: Spark SQL and UDF**"
   ]
  },
  {
   "cell_type": "code",
   "execution_count": 0,
   "metadata": {
    "application/vnd.databricks.v1+cell": {
     "cellMetadata": {},
     "inputWidgets": {},
     "nuid": "f8de1872-aa41-4b4b-8ea7-39b6f2086650",
     "showTitle": false,
     "title": ""
    },
    "id": "YhJzLq8XaoCL"
   },
   "outputs": [],
   "source": [
    "# Spark SQL (Register the DF using a local temporary view):\n",
    "df2.createOrReplaceTempView(\"df_football\")"
   ]
  },
  {
   "cell_type": "code",
   "execution_count": 0,
   "metadata": {
    "application/vnd.databricks.v1+cell": {
     "cellMetadata": {},
     "inputWidgets": {},
     "nuid": "8affd912-0bd4-426c-974f-103524282b6f",
     "showTitle": false,
     "title": ""
    },
    "colab": {
     "base_uri": "https://localhost:8080/"
    },
    "id": "bIKu4KMrdt1k",
    "outputId": "e3d34b9b-eb7d-4373-c7eb-bf4320a788b5"
   },
   "outputs": [],
   "source": [
    "# SQL Query:\n",
    "\n",
    "sql_query = \"\"\"SELECT Age, count(*) as Count\n",
    "              FROM df_football\n",
    "              WHERE Overall > 70\n",
    "              GROUP BY Age\n",
    "              ORDER BY Age\"\"\"\n",
    "\n",
    "result = spark.sql(sql_query)\n",
    "result.show()"
   ]
  },
  {
   "cell_type": "code",
   "execution_count": 0,
   "metadata": {
    "application/vnd.databricks.v1+cell": {
     "cellMetadata": {},
     "inputWidgets": {},
     "nuid": "2c0e3c81-65cf-47ee-a00f-b3d1f3334395",
     "showTitle": false,
     "title": ""
    },
    "colab": {
     "base_uri": "https://localhost:8080/"
    },
    "id": "OgP3auupaaTp",
    "outputId": "2adc80a8-9bb6-41c2-d747-6538b3c08cfd"
   },
   "outputs": [],
   "source": [
    "# UDF (User Defined Functions):\n",
    "def uppercase_converter(record):\n",
    "  if len(record) > 10:\n",
    "    return record.upper()\n",
    "  else:\n",
    "    return record.lower()\n",
    "\n",
    "# register the DF\n",
    "df2.createOrReplaceTempView(\"UDF_football\")\n",
    "\n",
    "# register the function\n",
    "spark.udf.register(\"UPPER\", uppercase_converter)\n",
    "\n",
    "# use the UDF in SQL\n",
    "sql_query = \"SELECT Age, UPPER(Name) as Name, UPPER(Club) as Club FROM UDF_football\"\n",
    "result = spark.sql(sql_query)\n",
    "result.show()"
   ]
  }
 ],
 "metadata": {
  "application/vnd.databricks.v1+notebook": {
   "dashboards": [],
   "language": "python",
   "notebookMetadata": {},
   "notebookName": "Working_with_DF",
   "widgets": {}
  },
  "colab": {
   "provenance": []
  },
  "kernelspec": {
   "display_name": "Python 3",
   "language": "python",
   "name": "python3"
  },
  "language_info": {
   "codemirror_mode": {
    "name": "ipython",
    "version": 3
   },
   "file_extension": ".py",
   "mimetype": "text/x-python",
   "name": "python",
   "nbconvert_exporter": "python",
   "pygments_lexer": "ipython3",
   "version": "3.8.3"
  }
 },
 "nbformat": 4,
 "nbformat_minor": 0
}
